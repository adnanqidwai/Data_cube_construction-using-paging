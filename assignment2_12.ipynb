{
 "cells": [
  {
   "cell_type": "code",
   "execution_count": 22,
   "metadata": {},
   "outputs": [],
   "source": [
    "import pandas as pd\n",
    "import numpy as np\n",
    "import matplotlib.pyplot as plt\n",
    "import time\n",
    "import os\n",
    "import csv\n",
    "import seaborn as sns\n",
    "import tracemalloc"
   ]
  },
  {
   "cell_type": "markdown",
   "metadata": {},
   "source": [
    "## **`Part 1`**: **`BUC Algorithm`**"
   ]
  },
  {
   "cell_type": "code",
   "execution_count": 23,
   "metadata": {},
   "outputs": [
    {
     "data": {
      "text/html": [
       "<div>\n",
       "<style scoped>\n",
       "    .dataframe tbody tr th:only-of-type {\n",
       "        vertical-align: middle;\n",
       "    }\n",
       "\n",
       "    .dataframe tbody tr th {\n",
       "        vertical-align: top;\n",
       "    }\n",
       "\n",
       "    .dataframe thead th {\n",
       "        text-align: right;\n",
       "    }\n",
       "</style>\n",
       "<table border=\"1\" class=\"dataframe\">\n",
       "  <thead>\n",
       "    <tr style=\"text-align: right;\">\n",
       "      <th></th>\n",
       "      <th>year</th>\n",
       "      <th>suicides_no</th>\n",
       "      <th>population</th>\n",
       "      <th>suicides/100k pop</th>\n",
       "      <th>HDI for year</th>\n",
       "      <th>gdp_per_capita ($)</th>\n",
       "    </tr>\n",
       "  </thead>\n",
       "  <tbody>\n",
       "    <tr>\n",
       "      <th>count</th>\n",
       "      <td>27820.000000</td>\n",
       "      <td>27820.000000</td>\n",
       "      <td>2.782000e+04</td>\n",
       "      <td>27820.000000</td>\n",
       "      <td>8364.000000</td>\n",
       "      <td>27820.000000</td>\n",
       "    </tr>\n",
       "    <tr>\n",
       "      <th>mean</th>\n",
       "      <td>2001.258375</td>\n",
       "      <td>242.574407</td>\n",
       "      <td>1.844794e+06</td>\n",
       "      <td>12.816097</td>\n",
       "      <td>0.776601</td>\n",
       "      <td>16866.464414</td>\n",
       "    </tr>\n",
       "    <tr>\n",
       "      <th>std</th>\n",
       "      <td>8.469055</td>\n",
       "      <td>902.047917</td>\n",
       "      <td>3.911779e+06</td>\n",
       "      <td>18.961511</td>\n",
       "      <td>0.093367</td>\n",
       "      <td>18887.576472</td>\n",
       "    </tr>\n",
       "    <tr>\n",
       "      <th>min</th>\n",
       "      <td>1985.000000</td>\n",
       "      <td>0.000000</td>\n",
       "      <td>2.780000e+02</td>\n",
       "      <td>0.000000</td>\n",
       "      <td>0.483000</td>\n",
       "      <td>251.000000</td>\n",
       "    </tr>\n",
       "    <tr>\n",
       "      <th>25%</th>\n",
       "      <td>1995.000000</td>\n",
       "      <td>3.000000</td>\n",
       "      <td>9.749850e+04</td>\n",
       "      <td>0.920000</td>\n",
       "      <td>0.713000</td>\n",
       "      <td>3447.000000</td>\n",
       "    </tr>\n",
       "    <tr>\n",
       "      <th>50%</th>\n",
       "      <td>2002.000000</td>\n",
       "      <td>25.000000</td>\n",
       "      <td>4.301500e+05</td>\n",
       "      <td>5.990000</td>\n",
       "      <td>0.779000</td>\n",
       "      <td>9372.000000</td>\n",
       "    </tr>\n",
       "    <tr>\n",
       "      <th>75%</th>\n",
       "      <td>2008.000000</td>\n",
       "      <td>131.000000</td>\n",
       "      <td>1.486143e+06</td>\n",
       "      <td>16.620000</td>\n",
       "      <td>0.855000</td>\n",
       "      <td>24874.000000</td>\n",
       "    </tr>\n",
       "    <tr>\n",
       "      <th>max</th>\n",
       "      <td>2016.000000</td>\n",
       "      <td>22338.000000</td>\n",
       "      <td>4.380521e+07</td>\n",
       "      <td>224.970000</td>\n",
       "      <td>0.944000</td>\n",
       "      <td>126352.000000</td>\n",
       "    </tr>\n",
       "  </tbody>\n",
       "</table>\n",
       "</div>"
      ],
      "text/plain": [
       "               year   suicides_no    population  suicides/100k pop  \\\n",
       "count  27820.000000  27820.000000  2.782000e+04       27820.000000   \n",
       "mean    2001.258375    242.574407  1.844794e+06          12.816097   \n",
       "std        8.469055    902.047917  3.911779e+06          18.961511   \n",
       "min     1985.000000      0.000000  2.780000e+02           0.000000   \n",
       "25%     1995.000000      3.000000  9.749850e+04           0.920000   \n",
       "50%     2002.000000     25.000000  4.301500e+05           5.990000   \n",
       "75%     2008.000000    131.000000  1.486143e+06          16.620000   \n",
       "max     2016.000000  22338.000000  4.380521e+07         224.970000   \n",
       "\n",
       "       HDI for year  gdp_per_capita ($)  \n",
       "count   8364.000000        27820.000000  \n",
       "mean       0.776601        16866.464414  \n",
       "std        0.093367        18887.576472  \n",
       "min        0.483000          251.000000  \n",
       "25%        0.713000         3447.000000  \n",
       "50%        0.779000         9372.000000  \n",
       "75%        0.855000        24874.000000  \n",
       "max        0.944000       126352.000000  "
      ]
     },
     "execution_count": 23,
     "metadata": {},
     "output_type": "execute_result"
    }
   ],
   "source": [
    "df=pd.read_csv(\"./master.csv\")\n",
    "df.describe()"
   ]
  },
  {
   "cell_type": "code",
   "execution_count": 24,
   "metadata": {},
   "outputs": [
    {
     "name": "stdout",
     "output_type": "stream",
     "text": [
      "<class 'pandas.core.frame.DataFrame'>\n",
      "RangeIndex: 27820 entries, 0 to 27819\n",
      "Data columns (total 12 columns):\n",
      " #   Column              Non-Null Count  Dtype  \n",
      "---  ------              --------------  -----  \n",
      " 0   country             27820 non-null  object \n",
      " 1   year                27820 non-null  int64  \n",
      " 2   sex                 27820 non-null  object \n",
      " 3   age                 27820 non-null  object \n",
      " 4   suicides_no         27820 non-null  int64  \n",
      " 5   population          27820 non-null  int64  \n",
      " 6   suicides/100k pop   27820 non-null  float64\n",
      " 7   country-year        27820 non-null  object \n",
      " 8   HDI for year        8364 non-null   float64\n",
      " 9    gdp_for_year ($)   27820 non-null  object \n",
      " 10  gdp_per_capita ($)  27820 non-null  int64  \n",
      " 11  generation          27820 non-null  object \n",
      "dtypes: float64(2), int64(4), object(6)\n",
      "memory usage: 2.5+ MB\n"
     ]
    }
   ],
   "source": [
    "df.info()"
   ]
  },
  {
   "cell_type": "code",
   "execution_count": 25,
   "metadata": {},
   "outputs": [
    {
     "data": {
      "text/plain": [
       "Index(['country', 'year', 'sex', 'age', 'suicides_no', 'population',\n",
       "       'suicides/100k pop', 'country-year', 'HDI for year',\n",
       "       ' gdp_for_year ($) ', 'gdp_per_capita ($)', 'generation'],\n",
       "      dtype='object')"
      ]
     },
     "execution_count": 25,
     "metadata": {},
     "output_type": "execute_result"
    }
   ],
   "source": [
    "row,dim=df.shape\n",
    "df.columns"
   ]
  },
  {
   "cell_type": "markdown",
   "metadata": {},
   "source": [
    "### *`Pre-Processing the data`*"
   ]
  },
  {
   "cell_type": "code",
   "execution_count": 26,
   "metadata": {},
   "outputs": [],
   "source": [
    "def preprocess_population(df):\n",
    "    df[\"population\"].describe()\n",
    "    pop_features = df[\"population\"].describe()\n",
    "\n",
    "    bins = [0, pop_features[\"25%\"], pop_features[\"75%\"], pop_features[\"max\"]]\n",
    "    label_names = [\"low\", \"medium\", \"high\"]\n",
    "    df[\"population\"] = pd.cut(df[\"population\"], bins=bins, labels=label_names)\n",
    "    return df"
   ]
  },
  {
   "cell_type": "code",
   "execution_count": 27,
   "metadata": {},
   "outputs": [],
   "source": [
    "def preprocess_suicides_no(df):\n",
    "    sui_data = df[\"suicides_no\"].describe()\n",
    "    bins = [i*50 for i in range(int(sui_data[\"75%\"])//10 + 1)]\n",
    "    bins[0]=-1\n",
    "    bins.append(int(sui_data[\"max\"])+1)\n",
    "    labels=[\"{}-{}\".format(bins[i]+1,bins[i+1]) for i in range(len(bins)-1)]\n",
    "    labels[-1]=\">{})\".format(bins[-2])\n",
    "\n",
    "    df[\"suicides_no\"]=pd.cut(df[\"suicides_no\"],bins=bins,labels=labels)\n",
    "    return df"
   ]
  },
  {
   "cell_type": "code",
   "execution_count": 28,
   "metadata": {},
   "outputs": [],
   "source": [
    "def preprocess_gdp_for_year(df):\n",
    "    df[' gdp_for_year ($) '] = df[' gdp_for_year ($) '].apply(lambda x: float(x.replace(\",\",\"\")))\n",
    "    \n",
    "    gdp_data=df[' gdp_for_year ($) '].describe()\n",
    "    gdp_data\n",
    "    bins = [0, gdp_data[\"25%\"], gdp_data[\"75%\"]]\n",
    "    bins.append(gdp_data[\"max\"]+1)\n",
    "    labels=[\"Low\", \"Medium\", \"High\"]\n",
    "    df[\" gdp_for_year ($) \"]=pd.cut(df[\" gdp_for_year ($) \"],bins=bins,labels=labels)\n",
    "    return df"
   ]
  },
  {
   "cell_type": "code",
   "execution_count": 29,
   "metadata": {},
   "outputs": [],
   "source": [
    "def preprocess_gdp_per_capita(df):\n",
    "    per_capita_data=df[\"gdp_per_capita ($)\"].describe()\n",
    "    bins=[i*1000 for i in range(int(per_capita_data[\"75%\"])//1000)]\n",
    "    bins.append(int(per_capita_data[\"max\"]))\n",
    "    labels=[\"{}-{}\".format(bins[i],bins[i+1]) for i in range(len(bins)-1)]\n",
    "    labels[-1]=\">{}\".format(bins[-2])\n",
    "\n",
    "    df[\"gdp_per_capita ($)\"].describe()\n",
    "    df[\"gdp_per_capita ($)\"]=pd.cut(df[\"gdp_per_capita ($)\"],bins=bins,labels=labels)\n",
    "    return df"
   ]
  },
  {
   "cell_type": "code",
   "execution_count": 30,
   "metadata": {},
   "outputs": [],
   "source": [
    "def preprocess_data(df):\n",
    "\n",
    "    df=preprocess_gdp_per_capita(preprocess_gdp_for_year(preprocess_suicides_no(preprocess_population(df))))\n",
    "\n",
    "    df.drop(axis=1,columns=[\"suicides/100k pop\",\"HDI for year\",\"country-year\"],inplace=True)\n",
    "    return df"
   ]
  },
  {
   "cell_type": "markdown",
   "metadata": {},
   "source": [
    "* The bins were decided manually for some and by nature of values"
   ]
  },
  {
   "cell_type": "code",
   "execution_count": 31,
   "metadata": {},
   "outputs": [],
   "source": [
    "def aggregate(data):\n",
    "    cur_col=data[:,0]\n",
    "    unique,datacounts=np.unique(cur_col,return_counts=True)\n",
    "    return unique,datacounts"
   ]
  },
  {
   "cell_type": "markdown",
   "metadata": {},
   "source": [
    "### *`BUC Algorithm`*\n",
    "* **Minimum support was kept in multiples of 250**"
   ]
  },
  {
   "cell_type": "code",
   "execution_count": 32,
   "metadata": {},
   "outputs": [],
   "source": [
    "min_sup_list=[100,250,500,750,1000]\n",
    "\n",
    "def compute_cube(data,output_rec):\n",
    "    dim=data.shape[1]\n",
    "    if(dim==0):\n",
    "        all_cube.append(output_rec.copy())\n",
    "        all_cube[-1].append(len(data))\n",
    "        return\n",
    "    \n",
    "\n",
    "\n",
    "    idx=data[:,0].argsort()\n",
    "    data=data[idx]\n",
    "\n",
    "    unique_attr,datacount=aggregate(data)\n",
    "    k=0\n",
    "    cardinality=len(unique_attr)\n",
    "    for i in range(cardinality):\n",
    "        count=datacount[i]\n",
    "        if(count>=min_sup):\n",
    "            output_rec.append(data[k,0])\n",
    "            compute_cube(data[k:k+count,1:],output_rec)\n",
    "            output_rec.pop()\n",
    "        k+=count\n",
    "    output_rec.append(\"ALL\")\n",
    "    compute_cube(data[:,1:],output_rec)\n",
    "    output_rec.pop()\n",
    "\n",
    "run_time=[]\n",
    "memory_allot=[]\n",
    "\n",
    "df=preprocess_data(df)\n",
    "\n",
    "for min_sup in min_sup_list:\n",
    "    min_sup=min_sup\n",
    "    output_rec=[]\n",
    "    all_cube=[]\n",
    "    data=df.values\n",
    "    start=time.time()\n",
    "    tracemalloc.start()\n",
    "\n",
    "    compute_cube(data,output_rec)\n",
    "    end=time.time()\n",
    "    if(min_sup==100):\n",
    "        result=pd.DataFrame(all_cube)\n",
    "        cols_name=list(df.columns)\n",
    "        cols_name.append('count')\n",
    "        result.columns=cols_name\n",
    "        result.to_csv('result.csv')\n",
    "    memory_allot.append((tracemalloc.get_traced_memory()[1])/(1024*1024))\n",
    "    tracemalloc.stop()\n",
    "    run_time.append(end-start)"
   ]
  },
  {
   "cell_type": "code",
   "execution_count": 33,
   "metadata": {},
   "outputs": [
    {
     "data": {
      "image/png": "[encoded data removed]",
      "text/plain": [
       "<Figure size 640x480 with 1 Axes>"
      ]
     },
     "metadata": {},
     "output_type": "display_data"
    }
   ],
   "source": [
    "sns.set()\n",
    "plt.figure()\n",
    "plt.plot(min_sup_list,run_time)\n",
    "plt.scatter(min_sup_list,run_time,marker='o',color='blue')\n",
    "plt.xlabel(\"Min support\")\n",
    "plt.ylabel(\"Run Time\")\n",
    "plt.show()"
   ]
  },
  {
   "cell_type": "code",
   "execution_count": 34,
   "metadata": {},
   "outputs": [
    {
     "data": {
      "image/png": "[encoded data removed]",
      "text/plain": [
       "<Figure size 640x480 with 1 Axes>"
      ]
     },
     "metadata": {},
     "output_type": "display_data"
    }
   ],
   "source": [
    "sns.set()\n",
    "plt.figure()\n",
    "plt.plot(run_time,memory_allot)\n",
    "#  set sns marker = \".\"\n",
    "plt.scatter(run_time,memory_allot,marker=\"o\",color=\"Blue\")\n",
    "plt.ylabel(\"Memory Allotted(in MB)\")\n",
    "plt.xlabel(\"Run Time (in sec)\")\n",
    "plt.show()"
   ]
  },
  {
   "cell_type": "markdown",
   "metadata": {},
   "source": [
    "## **`Part 2`**: **`BUC Algorithm (Memory Constraint)`**"
   ]
  },
  {
   "cell_type": "code",
   "execution_count": 35,
   "metadata": {},
   "outputs": [],
   "source": [
    "def merge_files(filename,file_path1,file_path2,start,mid,end,columns,attr):\n",
    "    size_1=mid-start+1\n",
    "    size_2=end-mid\n",
    "\n",
    "    p1=0\n",
    "    p2=0\n",
    "   \n",
    "    with open(filename,\"w\") as file:\n",
    "        writer=csv.writer(file)\n",
    "        with open(file_path1) as file1, open(file_path2) as file2:\n",
    "            r1=csv.reader(file1,delimiter=\",\")\n",
    "            r2=csv.reader(file2,delimiter=\",\")\n",
    "            next(r1)\n",
    "            next(r2)\n",
    "            val1=next(r1)\n",
    "            val2=next(r2)\n",
    "            writer.writerow(columns)\n",
    "            while(p1<size_1 and p2<size_2):\n",
    "                if(val1[attr]<=val2[attr]):\n",
    "                    writer.writerow(val1)\n",
    "                    p1+=1\n",
    "                    if(p1>=size_1): break\n",
    "                    val1=next(r1)\n",
    "                else:\n",
    "                    writer.writerow(val2)\n",
    "                    p2+=1\n",
    "                    if(p2>=size_2): break\n",
    "                    val2=next(r2)\n",
    "            while(p1<size_1):\n",
    "                writer.writerow(val1)\n",
    "                p1+=1\n",
    "                if(p1>=size_1): break\n",
    "                val1=next(r1)\n",
    "            while(p2<size_2):\n",
    "                writer.writerow(val2)\n",
    "                p2+=1\n",
    "                if(p2>=size_2): break\n",
    "                val2=next(r2)"
   ]
  },
  {
   "cell_type": "code",
   "execution_count": 36,
   "metadata": {},
   "outputs": [],
   "source": [
    "def external_merge_sort(filename,start,end,attr,columns,numRows):\n",
    "    if(end-start<numRows):\n",
    "        curr_df=pd.read_csv(filename)\n",
    "        curr_df.sort_values(by=attr,inplace=True)\n",
    "        curr_df.set_index(curr_df.columns[0],inplace=True)\n",
    "        curr_df.to_csv(filename)\n",
    "        return\n",
    "    \n",
    "    mid=(end+start)//2\n",
    "    file1=[]\n",
    "    file2=[]\n",
    "\n",
    "    with open(filename,'r') as csv_file:\n",
    "        reader=csv.reader(csv_file,delimiter=\",\")\n",
    "        next(reader)\n",
    "        for index,line in enumerate(reader):\n",
    "            if(index<=mid-start):\n",
    "                file1.append(line)\n",
    "            else:\n",
    "                file2.append(line)\n",
    "    \n",
    "    file_path=\"{}_{}_{}.csv\"\n",
    "    \n",
    "    file_path1=file_path.format(start,mid,attr)\n",
    "    file_path2=file_path.format(mid+1,end,attr)\n",
    "\n",
    "    file1=pd.DataFrame(file1,columns=columns)\n",
    "    file1.set_index(file1.columns[0],inplace=True)\n",
    "    file1.to_csv(file_path1)\n",
    "    external_merge_sort(file_path1,start,mid,attr,columns,numRows)\n",
    "\n",
    "    file2=pd.DataFrame(file2,columns=columns)\n",
    "    file2.set_index(file2.columns[0],inplace=True)\n",
    "    file2.to_csv(file_path2)\n",
    "\n",
    "    external_merge_sort(file_path2,mid+1,end,attr,columns,numRows)\n",
    "    merge_files(filename,file_path1,file_path2,start,mid,end,columns,list(columns).index(attr))\n",
    "    os.remove(file_path1)\n",
    "    os.remove(file_path2)"
   ]
  },
  {
   "cell_type": "code",
   "execution_count": 37,
   "metadata": {},
   "outputs": [],
   "source": [
    "def aggregate_page(filename,attr):\n",
    "    dict={}\n",
    "    with open(filename,\"r\") as file:\n",
    "        reader =csv.reader(file)\n",
    "        next(reader)\n",
    "        for row in reader:\n",
    "            if row[attr] in dict:\n",
    "                dict[row[attr]]+=1\n",
    "            else:\n",
    "                dict[row[attr]]=1\n",
    "    return list(dict.keys()),list(dict.values())\n",
    "\n",
    "def aggregate(data):\n",
    "    cur_col=data[:,0]\n",
    "    unique,datacounts=np.unique(cur_col,return_counts=True)\n",
    "    return unique,datacounts"
   ]
  },
  {
   "cell_type": "code",
   "execution_count": 38,
   "metadata": {},
   "outputs": [],
   "source": [
    "block_size=2\n",
    "page_dict={}\n",
    "global pageNumber\n",
    "pageNumber=0\n",
    "class PageTable:\n",
    "    def __init__(self,filename,pageSize):\n",
    "        self.filename=filename\n",
    "        row_num=0\n",
    "        df_temp=pd.read_csv(filename,nrows=1)\n",
    "        self.numCol=len(df_temp.columns)\n",
    "        self.col=df_temp.columns\n",
    "\n",
    "        with open(filename,\"r\") as file:\n",
    "            reader=csv.reader(file)\n",
    "            for row in reader:\n",
    "                row_num+=1\n",
    "        self.numRows=row_num\n",
    "        self.pageSize=pageSize\n",
    "        self.numRowsBlock=block_size*pageSize//self.numCol\n",
    "    \n",
    "    def partitionAttr(self,attr):  # partition on basis of attr\n",
    "        external_merge_sort(self.filename,0,self.numRows-2,attr,self.col,self.numRowsBlock)\n",
    "        global pageNumber\n",
    "        unique_attr,datacount=aggregate_page(self.filename,list(self.col).index(attr))\n",
    "        with open(self.filename,\"r\") as file:\n",
    "            reader=csv.reader(file,delimiter=\",\")\n",
    "            next(reader)\n",
    "            for i in range(len(unique_attr)):\n",
    "                count=datacount[i]\n",
    "                with open(\"page_{}\".format(pageNumber),\"w\") as file:\n",
    "                    writer=csv.writer(file)\n",
    "                    page_dict[\"{}_{}_{}\".format(self.filename,attr,i)]=\"page_{}\".format(pageNumber)\n",
    "                    index=list(self.col).index(attr)\n",
    "                    writer.writerow(list(self.col)[index:])\n",
    "                    pageNumber+=1\n",
    "                    for row in reader:\n",
    "                        writer.writerow(row[index:])\n",
    "                        count-=1\n",
    "                        if(count==0): break\n",
    "        return unique_attr,datacount\n",
    "        "
   ]
  },
  {
   "cell_type": "code",
   "execution_count": 39,
   "metadata": {},
   "outputs": [],
   "source": [
    "all_cube=[]\n",
    "mins_up=100\n",
    "def compute(table,curr_rec,attr,subset):\n",
    "    \n",
    "    if(attr==None):\n",
    "        all_cube.append(curr_rec.copy())\n",
    "        if(len(subset)==0):\n",
    "            all_cube[-1].append(table.numRows-1)\n",
    "        else:\n",
    "            all_cube[-1].append(len(subset))\n",
    "        return\n",
    "\n",
    "    if(len(subset)==0):\n",
    "        if(table.numRows-1>table.numRowsBlock):\n",
    "            unique_attr,datacount=table.partitionAttr(attr)\n",
    "        else:\n",
    "            subset=(pd.read_csv(table.filename)).values\n",
    "            index=list(table.col).index(attr)\n",
    "            subset=subset[:,index:]\n",
    "            idx=subset[:,0].argsort()\n",
    "            subset=subset[idx]\n",
    "            unique_attr,datacount=aggregate(subset)\n",
    "    else:\n",
    "        idx=subset[:,0].argsort()\n",
    "        subset=subset[idx]\n",
    "        unique_attr,datacount=aggregate(subset)\n",
    "    \n",
    "    k=0\n",
    "    for i in range(len(unique_attr)):\n",
    "        count=datacount[i]\n",
    "        if(len(subset)==0):\n",
    "            if(count>=mins_up):\n",
    "                tab=PageTable(page_dict[\"{}_{}_{}\".format(table.filename,attr,i)],table.pageSize)\n",
    "                curr_rec.append(unique_attr[i])\n",
    "                index=list(table.col).index(attr)\n",
    "                if(table.numCol>index+1):\n",
    "                    compute(tab,curr_rec,list(table.col)[index+1],[])\n",
    "                else:\n",
    "                    compute(tab,curr_rec,None,[])\n",
    "                curr_rec.pop()\n",
    "        else:\n",
    "            if(count>=mins_up):\n",
    "                curr_rec.append(subset[k,0])\n",
    "                if(subset.shape[1]>1):\n",
    "                    compute(table,curr_rec,attr,subset[k:k+count,1:])\n",
    "                else:\n",
    "                    compute(table,curr_rec,None,subset[k:k+count,1:])\n",
    "                curr_rec.pop()\n",
    "        k+=count\n",
    "    \n",
    "    curr_rec.append(\"ALL\")\n",
    "    index=list(table.col).index(attr)\n",
    "    if(len(subset)==0):\n",
    "        if(table.numCol>index+1):\n",
    "            compute(table,curr_rec,list(table.col)[index+1],[])\n",
    "        else:\n",
    "            compute(table,curr_rec,None,[])\n",
    "    else:\n",
    "        if(subset.shape[1]>1):\n",
    "            compute(table,curr_rec,attr,subset[:,1:])\n",
    "        else:\n",
    "            compute(table,curr_rec,None,subset[:,1:])\n",
    "    curr_rec.pop()"
   ]
  },
  {
   "cell_type": "code",
   "execution_count": 40,
   "metadata": {},
   "outputs": [],
   "source": [
    "df=pd.read_csv(\"./master.csv\")\n",
    "df=preprocess_data(df)\n",
    "df.set_index(list(df.columns)[0],inplace=True)\n",
    "df.to_csv(\"masterCleaned.csv\")"
   ]
  },
  {
   "cell_type": "code",
   "execution_count": 41,
   "metadata": {},
   "outputs": [],
   "source": [
    "page_size=[1000,2000,5000,10000]\n",
    "time_taken=[]\n",
    "for i in page_size:\n",
    "    table=PageTable(\"masterCleaned.csv\",i)\n",
    "    page_dict={}\n",
    "    global pageNumber\n",
    "    pageNumber=0\n",
    "    curr_rec=[]\n",
    "    subset=[]\n",
    "    all_cube=[]\n",
    "    start=time.time()\n",
    "    compute(table,curr_rec,list(table.col)[0],subset)\n",
    "    end=time.time()\n",
    "    time_taken.append(end-start)\n",
    "    result=pd.DataFrame(all_cube)\n",
    "    result.to_csv(\"result_{}.csv\".format(i))"
   ]
  },
  {
   "cell_type": "code",
   "execution_count": 42,
   "metadata": {},
   "outputs": [
    {
     "data": {
      "image/png": "[encoded data removed]",
      "text/plain": [
       "<Figure size 640x480 with 1 Axes>"
      ]
     },
     "metadata": {},
     "output_type": "display_data"
    }
   ],
   "source": [
    "plt.figure()\n",
    "plt.plot(page_size,time_taken)\n",
    "plt.xlabel(\"ALooted page size\")\n",
    "plt.ylabel(\"Time taken in sec\")\n",
    "plt.show()"
   ]
  },
  {
   "cell_type": "markdown",
   "metadata": {},
   "source": [
    "## **`Part 3`**: **`AOI Algorithm`**"
   ]
  },
  {
   "cell_type": "code",
   "execution_count": 45,
   "metadata": {},
   "outputs": [],
   "source": [
    "df = pd.read_excel('cleaned_data.xlsx')"
   ]
  },
  {
   "cell_type": "code",
   "execution_count": 46,
   "metadata": {},
   "outputs": [
    {
     "data": {
      "text/plain": [
       "Index(['Property_Name', 'Property_id', 'Property_type', 'Property_status',\n",
       "       'Price_per_unit_area', 'Posted_On', 'Project_URL', 'builder_id',\n",
       "       'Builder_name', 'Property_building_status', 'City_id', 'City_name',\n",
       "       'No_of_BHK', 'Locality_ID', 'Locality_Name', 'Longitude', 'Latitude',\n",
       "       'Price', 'Size', 'Sub_urban_ID', 'Sub_urban_name', 'description',\n",
       "       'is_furnished', 'listing_domain_score', 'is_plot', 'is_RERA_registered',\n",
       "       'is_Apartment', 'is_ready_to_move', 'is_commercial_Listing',\n",
       "       'is_PentaHouse', 'is_studio', 'Listing_Category'],\n",
       "      dtype='object')"
      ]
     },
     "execution_count": 46,
     "metadata": {},
     "output_type": "execute_result"
    }
   ],
   "source": [
    "df.columns"
   ]
  },
  {
   "cell_type": "markdown",
   "metadata": {},
   "source": [
    "***\n",
    "## `Preprocessing`"
   ]
  },
  {
   "cell_type": "code",
   "execution_count": 47,
   "metadata": {},
   "outputs": [],
   "source": [
    "df['Price_per_unit_area'] = df['Price_per_unit_area'].apply(lambda x : float(str(x).replace(\",\",\"\")))\n",
    "df['Size'] = df['Size'].apply(lambda x: int(x[:-6].replace(\",\",\"\")) )\n",
    "df['Price'] = df['Price'].apply(lambda x: float(x.replace(\",\",\"\")))"
   ]
  },
  {
   "cell_type": "code",
   "execution_count": 48,
   "metadata": {},
   "outputs": [],
   "source": [
    "budget_ranges = [\n",
    "    {\"label\": \"Low Budget\", \"min\": 0, \"max\": 10000},\n",
    "    {\"label\": \"Medium Budget\", \"min\": 10001, \"max\": 30000},\n",
    "    {\"label\": \"High Budget\", \"min\": 30001, \"max\": float(\"inf\")}\n",
    "]\n",
    "\n",
    "budget_by_price = [\n",
    "    {\"label\": \"Low Budget\", \"min\": 1, \"max\": 10000000},\n",
    "    {\"label\": \"Medium Budget\", \"min\": 10000001, \"max\": 30000000},\n",
    "    {\"label\": \"High Budget\", \"min\": 30000001, \"max\": float(\"inf\")}\n",
    "]\n",
    "\n",
    "def categorize_budget(row):\n",
    "    for budget_range in budget_ranges:\n",
    "        if budget_range[\"min\"] <= row[\"Price_per_unit_area\"] <= budget_range[\"max\"]:\n",
    "            return budget_range[\"label\"]\n",
    "        \n",
    "def categorize_budget_by_price(row):\n",
    "    for budget_range in budget_by_price:\n",
    "        if budget_range[\"min\"] <= row[\"Price\"] <= budget_range[\"max\"]:\n",
    "            return budget_range[\"label\"]\n",
    "\n",
    "df[\"Price\"] = df.apply(categorize_budget_by_price, axis=1)\n",
    "df[\"Price_per_unit_area\"] = df.apply(categorize_budget, axis=1)"
   ]
  },
  {
   "cell_type": "code",
   "execution_count": 49,
   "metadata": {},
   "outputs": [],
   "source": [
    "\n",
    "# parses dates correctly\n",
    "def calc(x):\n",
    "    if(\"day\" in x):\n",
    "        p= (x.split(\" \")[0])\n",
    "        if(\"a\" in p):\n",
    "            return 1.0\n",
    "        return float(p)\n",
    "    elif(\"month\" in x):\n",
    "        p= (x.split(\" \")[0])\n",
    "        if(\"a\" in p):\n",
    "            return 30.0\n",
    "        return float(p)*30    \n",
    "    elif(\"hour\" in x):\n",
    "        p= (x.split(\" \")[0])\n",
    "        if(\"a\" in p):\n",
    "            return 1.0/24\n",
    "        return float(p)/24\n",
    "\n",
    "    elif(\"minute\" in x):\n",
    "        p= (x.split(\" \")[0])\n",
    "        if(\"a\" in p):\n",
    "            return 1.0/(24*60)\n",
    "        return float(p)/(24*60)\n",
    "    elif(\"year\" in x):\n",
    "        p= (x.split(\" \")[0])\n",
    "        if(\"a\" in p):\n",
    "            return 365.0\n",
    "        return float(p)*365\n",
    "\n",
    "# print(df[\"Posted_On\"].info())\n",
    "df[\"Posted_On\"]=df[\"Posted_On\"].apply(lambda x: calc(x))"
   ]
  },
  {
   "cell_type": "markdown",
   "metadata": {},
   "source": [
    "***\n",
    "## `Extracting data by creating bins , `\n",
    "### `pruning columns with excess values`"
   ]
  },
  {
   "cell_type": "code",
   "execution_count": 50,
   "metadata": {},
   "outputs": [],
   "source": [
    "size_data= df[\"Size\"].describe()\n",
    "bins=[-1,1.5e3,3e3,4.5e3,6e3,7.5e3]\n",
    "bins.append(size_data[\"max\"])\n",
    "labels=[\"{}-{}\".format(bins[i]+1,bins[i+1]) for i in range(len(bins)-1)]\n",
    "labels[-1]=\">7500\"\n",
    "bins\n",
    "df[\"Size\"]=pd.cut(df[\"Size\"],bins=bins,labels=labels)"
   ]
  },
  {
   "cell_type": "code",
   "execution_count": 51,
   "metadata": {},
   "outputs": [],
   "source": [
    "domain_score= df[\"listing_domain_score\"].describe()\n",
    "bins=[-1,4,5,6,7,8,9]\n",
    "labels=[\"{}-{}\".format(bins[i]+1,bins[i+1]) for i in range(len(bins)-1)]\n",
    "labels[-1]=\">9\"\n",
    "df[\"listing_domain_score\"]=pd.cut(df[\"listing_domain_score\"],bins=bins,labels=labels)"
   ]
  },
  {
   "cell_type": "code",
   "execution_count": 52,
   "metadata": {},
   "outputs": [
    {
     "data": {
      "text/plain": [
       "20509"
      ]
     },
     "execution_count": 52,
     "metadata": {},
     "output_type": "execute_result"
    }
   ],
   "source": [
    "len(df[\"Property_Name\"].unique())"
   ]
  },
  {
   "cell_type": "markdown",
   "metadata": {},
   "source": [
    "- **Because of a large set of unique values, we drop the following column** "
   ]
  },
  {
   "cell_type": "code",
   "execution_count": 53,
   "metadata": {},
   "outputs": [],
   "source": [
    "df.drop(axis=1, columns=[\"Property_Name\"],inplace=True)"
   ]
  },
  {
   "cell_type": "code",
   "execution_count": 54,
   "metadata": {},
   "outputs": [
    {
     "data": {
      "text/plain": [
       "100691"
      ]
     },
     "execution_count": 54,
     "metadata": {},
     "output_type": "execute_result"
    }
   ],
   "source": [
    "len(df[\"Property_id\"].unique())"
   ]
  },
  {
   "cell_type": "markdown",
   "metadata": {},
   "source": [
    "* **Higher unique values**"
   ]
  },
  {
   "cell_type": "code",
   "execution_count": 55,
   "metadata": {},
   "outputs": [],
   "source": [
    "df.drop(axis=1, columns=[\"Property_id\"],inplace=True)"
   ]
  },
  {
   "cell_type": "code",
   "execution_count": 56,
   "metadata": {},
   "outputs": [
    {
     "data": {
      "text/plain": [
       "5"
      ]
     },
     "execution_count": 56,
     "metadata": {},
     "output_type": "execute_result"
    }
   ],
   "source": [
    "len(df[\"Property_type\"].unique())"
   ]
  },
  {
   "cell_type": "markdown",
   "metadata": {},
   "source": [
    "- **Because of a few, but informative values, we keep the following column**"
   ]
  },
  {
   "cell_type": "code",
   "execution_count": 57,
   "metadata": {},
   "outputs": [
    {
     "data": {
      "text/plain": [
       "2"
      ]
     },
     "execution_count": 57,
     "metadata": {},
     "output_type": "execute_result"
    }
   ],
   "source": [
    "len(df[\"Property_status\"].unique())"
   ]
  },
  {
   "cell_type": "code",
   "execution_count": 58,
   "metadata": {},
   "outputs": [],
   "source": [
    "# df[df[\"Posted_On\"].isna()]\n",
    "date_posted= df[\"Posted_On\"].describe()\n",
    "bins=[-1,10,20,30,40,50]\n",
    "bins.append(date_posted[\"max\"])\n",
    "labels=[\"{}-{}\".format(bins[i]+1,bins[i+1]) for i in range(len(bins)-1)]\n",
    "labels[-1]=\">50\"\n",
    "df[\"Posted_On\"]=pd.cut(df[\"Posted_On\"],bins=bins,labels=labels)"
   ]
  },
  {
   "cell_type": "markdown",
   "metadata": {},
   "source": [
    "- **Because of a large set of unique values, we drop the following column** "
   ]
  },
  {
   "cell_type": "code",
   "execution_count": 59,
   "metadata": {},
   "outputs": [
    {
     "name": "stdout",
     "output_type": "stream",
     "text": [
      "20674\n"
     ]
    }
   ],
   "source": [
    "print(len(df[\"Project_URL\"].unique()))\n",
    "df.drop(axis=1, columns=[\"Project_URL\"],inplace=True)"
   ]
  },
  {
   "cell_type": "markdown",
   "metadata": {},
   "source": [
    "- **Because of a large set of unique values, we drop the following column** "
   ]
  },
  {
   "cell_type": "code",
   "execution_count": 60,
   "metadata": {},
   "outputs": [
    {
     "name": "stdout",
     "output_type": "stream",
     "text": [
      "8350\n"
     ]
    }
   ],
   "source": [
    "print(len(df[\"builder_id\"].unique()))\n",
    "df.drop(axis=1, columns=[\"builder_id\"],inplace=True)"
   ]
  },
  {
   "cell_type": "markdown",
   "metadata": {},
   "source": [
    "- **Because of a large set of unique values, we drop the following column** "
   ]
  },
  {
   "cell_type": "code",
   "execution_count": 61,
   "metadata": {},
   "outputs": [
    {
     "name": "stdout",
     "output_type": "stream",
     "text": [
      "8347\n"
     ]
    }
   ],
   "source": [
    "print(len(df[\"Builder_name\"].unique()))\n",
    "df.drop(axis=1, columns=[\"Builder_name\"],inplace=True)"
   ]
  },
  {
   "cell_type": "code",
   "execution_count": 62,
   "metadata": {},
   "outputs": [
    {
     "data": {
      "text/plain": [
       "3"
      ]
     },
     "execution_count": 62,
     "metadata": {},
     "output_type": "execute_result"
    }
   ],
   "source": [
    "len(df[\"Property_building_status\"].unique())"
   ]
  },
  {
   "cell_type": "markdown",
   "metadata": {},
   "source": [
    "- **Because of a large set of unique values, we drop the following column** "
   ]
  },
  {
   "cell_type": "code",
   "execution_count": 63,
   "metadata": {},
   "outputs": [],
   "source": [
    "df.drop(axis=1, columns=[\"City_id\"],inplace=True)"
   ]
  },
  {
   "cell_type": "markdown",
   "metadata": {},
   "source": [
    "len(df[\"City_name\"].unique())"
   ]
  },
  {
   "cell_type": "code",
   "execution_count": 64,
   "metadata": {},
   "outputs": [],
   "source": [
    "df[\"No_of_BHK\"]= df[\"No_of_BHK\"].apply(lambda x: int(x.split(\" \")[0]))\n",
    "bins=[-1,3,6,9,12]\n",
    "bins.append(df[\"No_of_BHK\"].max())\n",
    "# bins\n",
    "labels=[\"{}-{}\".format(bins[i]+1,bins[i+1]) for i in range(len(bins)-1)]\n",
    "labels[-1]=\">16\"\n",
    "df[\"No_of_BHK\"]=pd.cut(df[\"No_of_BHK\"],bins=bins,labels=labels)"
   ]
  },
  {
   "cell_type": "code",
   "execution_count": 65,
   "metadata": {},
   "outputs": [],
   "source": [
    "df.drop(axis=1, columns=[\"Locality_ID\", \"Longitude\",\"Latitude\", \"Sub_urban_ID\"],inplace=True)"
   ]
  },
  {
   "cell_type": "markdown",
   "metadata": {},
   "source": [
    "### Merging, suburban names, to city names, by creating a dictionary for each city."
   ]
  },
  {
   "cell_type": "code",
   "execution_count": 66,
   "metadata": {},
   "outputs": [],
   "source": [
    "df[\"Sub_urban_name\"].unique()\n",
    "city_to_suburban= {}\n",
    "def remove_other_from_suburban_name(x):\n",
    "    if \"Other\" in x[\"Sub_urban_name\"]:\n",
    "        x[\"Sub_urban_name\"]=x[\"City_name\"]+ \" other\"\n",
    "        # print(x[\"Sub_urban_name\"])\n",
    "    return x\n",
    "df=df.apply(remove_other_from_suburban_name,axis=1)\n",
    "for city in df[\"City_name\"].unique():\n",
    "    city_to_suburban[city]= list(df[df[\"City_name\"]==city][\"Sub_urban_name\"].unique())\n",
    "# df"
   ]
  },
  {
   "cell_type": "code",
   "execution_count": 67,
   "metadata": {},
   "outputs": [],
   "source": [
    "def change_urban_name(x):\n",
    "    for city in city_to_suburban:\n",
    "        if x in city_to_suburban[city]:\n",
    "            return city\n",
    "    return x\n",
    "\n",
    "df[\"Sub_urban_name\"]=df[\"Sub_urban_name\"].apply(lambda x: change_urban_name(x))"
   ]
  },
  {
   "cell_type": "code",
   "execution_count": 68,
   "metadata": {},
   "outputs": [],
   "source": [
    "# do the same mapping for locality name\n",
    "city_to_locality= {}\n",
    "\n",
    "for city in df[\"City_name\"].unique():\n",
    "    city_to_locality[city]= list(df[df[\"City_name\"]==city][\"Locality_Name\"].unique())\n"
   ]
  },
  {
   "cell_type": "code",
   "execution_count": 69,
   "metadata": {},
   "outputs": [],
   "source": [
    "def change_locality_name(x):\n",
    "    for city in city_to_locality:\n",
    "        if x in city_to_locality[city]:\n",
    "            return city\n",
    "    return x\n",
    "df[\"Locality_Name\"]=df[\"Locality_Name\"].apply(lambda x: change_locality_name(x))"
   ]
  },
  {
   "cell_type": "code",
   "execution_count": 70,
   "metadata": {},
   "outputs": [],
   "source": [
    "df.drop(axis=1, columns=[\"description\"],inplace=True)"
   ]
  },
  {
   "cell_type": "code",
   "execution_count": 71,
   "metadata": {},
   "outputs": [
    {
     "data": {
      "text/plain": [
       "Index(['Property_type', 'Property_status', 'Price_per_unit_area', 'Posted_On',\n",
       "       'Property_building_status', 'City_name', 'No_of_BHK', 'Locality_Name',\n",
       "       'Price', 'Size', 'Sub_urban_name', 'is_furnished',\n",
       "       'listing_domain_score', 'is_plot', 'is_RERA_registered', 'is_Apartment',\n",
       "       'is_ready_to_move', 'is_commercial_Listing', 'is_PentaHouse',\n",
       "       'is_studio', 'Listing_Category'],\n",
       "      dtype='object')"
      ]
     },
     "execution_count": 71,
     "metadata": {},
     "output_type": "execute_result"
    }
   ],
   "source": [
    "df.columns"
   ]
  },
  {
   "cell_type": "code",
   "execution_count": 72,
   "metadata": {},
   "outputs": [],
   "source": [
    "df.drop(axis=1, columns=['is_furnished', 'is_plot', 'is_RERA_registered', 'is_Apartment',\n",
    "       'is_ready_to_move', 'is_commercial_Listing', 'is_PentaHouse',\n",
    "       'is_studio'],inplace=True)"
   ]
  },
  {
   "cell_type": "code",
   "execution_count": 73,
   "metadata": {},
   "outputs": [],
   "source": [
    "# grouping by all columns\n",
    "df=df.groupby(df.columns.tolist()).size().reset_index().rename(columns={0:'count'})"
   ]
  },
  {
   "cell_type": "code",
   "execution_count": 74,
   "metadata": {},
   "outputs": [],
   "source": [
    "df.to_excel(\"aoi.xlsx\",index=False)"
   ]
  },
  {
   "cell_type": "markdown",
   "metadata": {},
   "source": [
    "### `By now aggregating the data, we get the following columns with their respective counts.`\n",
    "#### And as we can see, the total count now equals the initial number of rows"
   ]
  },
  {
   "cell_type": "code",
   "execution_count": 75,
   "metadata": {},
   "outputs": [
    {
     "data": {
      "text/html": [
       "<div>\n",
       "<style scoped>\n",
       "    .dataframe tbody tr th:only-of-type {\n",
       "        vertical-align: middle;\n",
       "    }\n",
       "\n",
       "    .dataframe tbody tr th {\n",
       "        vertical-align: top;\n",
       "    }\n",
       "\n",
       "    .dataframe thead th {\n",
       "        text-align: right;\n",
       "    }\n",
       "</style>\n",
       "<table border=\"1\" class=\"dataframe\">\n",
       "  <thead>\n",
       "    <tr style=\"text-align: right;\">\n",
       "      <th></th>\n",
       "      <th>Property_type</th>\n",
       "      <th>Property_status</th>\n",
       "      <th>Price_per_unit_area</th>\n",
       "      <th>Posted_On</th>\n",
       "      <th>Property_building_status</th>\n",
       "      <th>City_name</th>\n",
       "      <th>No_of_BHK</th>\n",
       "      <th>Locality_Name</th>\n",
       "      <th>Price</th>\n",
       "      <th>Size</th>\n",
       "      <th>Sub_urban_name</th>\n",
       "      <th>listing_domain_score</th>\n",
       "      <th>Listing_Category</th>\n",
       "      <th>count</th>\n",
       "    </tr>\n",
       "  </thead>\n",
       "  <tbody>\n",
       "    <tr>\n",
       "      <th>0</th>\n",
       "      <td>Apartment</td>\n",
       "      <td>Ready to move</td>\n",
       "      <td>High Budget</td>\n",
       "      <td>0-10</td>\n",
       "      <td>ACTIVE</td>\n",
       "      <td>Bangalore</td>\n",
       "      <td>4-6</td>\n",
       "      <td>Bangalore</td>\n",
       "      <td>High Budget</td>\n",
       "      <td>3001.0-4500.0</td>\n",
       "      <td>Bangalore</td>\n",
       "      <td>0-4</td>\n",
       "      <td>sell</td>\n",
       "      <td>1</td>\n",
       "    </tr>\n",
       "    <tr>\n",
       "      <th>1</th>\n",
       "      <td>Apartment</td>\n",
       "      <td>Ready to move</td>\n",
       "      <td>High Budget</td>\n",
       "      <td>0-10</td>\n",
       "      <td>ACTIVE</td>\n",
       "      <td>Bangalore</td>\n",
       "      <td>4-6</td>\n",
       "      <td>Bangalore</td>\n",
       "      <td>High Budget</td>\n",
       "      <td>&gt;7500</td>\n",
       "      <td>Bangalore</td>\n",
       "      <td>0-4</td>\n",
       "      <td>sell</td>\n",
       "      <td>1</td>\n",
       "    </tr>\n",
       "    <tr>\n",
       "      <th>2</th>\n",
       "      <td>Apartment</td>\n",
       "      <td>Ready to move</td>\n",
       "      <td>High Budget</td>\n",
       "      <td>0-10</td>\n",
       "      <td>ACTIVE</td>\n",
       "      <td>Delhi</td>\n",
       "      <td>0-3</td>\n",
       "      <td>Delhi</td>\n",
       "      <td>High Budget</td>\n",
       "      <td>1501.0-3000.0</td>\n",
       "      <td>Delhi</td>\n",
       "      <td>0-4</td>\n",
       "      <td>sell</td>\n",
       "      <td>1</td>\n",
       "    </tr>\n",
       "    <tr>\n",
       "      <th>3</th>\n",
       "      <td>Apartment</td>\n",
       "      <td>Ready to move</td>\n",
       "      <td>High Budget</td>\n",
       "      <td>0-10</td>\n",
       "      <td>ACTIVE</td>\n",
       "      <td>Delhi</td>\n",
       "      <td>4-6</td>\n",
       "      <td>Delhi</td>\n",
       "      <td>High Budget</td>\n",
       "      <td>3001.0-4500.0</td>\n",
       "      <td>Delhi</td>\n",
       "      <td>0-4</td>\n",
       "      <td>sell</td>\n",
       "      <td>1</td>\n",
       "    </tr>\n",
       "    <tr>\n",
       "      <th>4</th>\n",
       "      <td>Apartment</td>\n",
       "      <td>Ready to move</td>\n",
       "      <td>High Budget</td>\n",
       "      <td>0-10</td>\n",
       "      <td>ACTIVE</td>\n",
       "      <td>Mumbai</td>\n",
       "      <td>0-3</td>\n",
       "      <td>Mumbai</td>\n",
       "      <td>High Budget</td>\n",
       "      <td>0-1500.0</td>\n",
       "      <td>Mumbai</td>\n",
       "      <td>0-4</td>\n",
       "      <td>sell</td>\n",
       "      <td>141</td>\n",
       "    </tr>\n",
       "    <tr>\n",
       "      <th>...</th>\n",
       "      <td>...</td>\n",
       "      <td>...</td>\n",
       "      <td>...</td>\n",
       "      <td>...</td>\n",
       "      <td>...</td>\n",
       "      <td>...</td>\n",
       "      <td>...</td>\n",
       "      <td>...</td>\n",
       "      <td>...</td>\n",
       "      <td>...</td>\n",
       "      <td>...</td>\n",
       "      <td>...</td>\n",
       "      <td>...</td>\n",
       "      <td>...</td>\n",
       "    </tr>\n",
       "    <tr>\n",
       "      <th>2855</th>\n",
       "      <td>Villa</td>\n",
       "      <td>Under Construction</td>\n",
       "      <td>Medium Budget</td>\n",
       "      <td>&gt;50</td>\n",
       "      <td>ACTIVE</td>\n",
       "      <td>Hyderabad</td>\n",
       "      <td>4-6</td>\n",
       "      <td>Hyderabad</td>\n",
       "      <td>High Budget</td>\n",
       "      <td>6001.0-7500.0</td>\n",
       "      <td>Hyderabad</td>\n",
       "      <td>0-4</td>\n",
       "      <td>sell</td>\n",
       "      <td>1</td>\n",
       "    </tr>\n",
       "    <tr>\n",
       "      <th>2856</th>\n",
       "      <td>Villa</td>\n",
       "      <td>Under Construction</td>\n",
       "      <td>Medium Budget</td>\n",
       "      <td>&gt;50</td>\n",
       "      <td>ACTIVE</td>\n",
       "      <td>Lucknow</td>\n",
       "      <td>4-6</td>\n",
       "      <td>Lucknow</td>\n",
       "      <td>Medium Budget</td>\n",
       "      <td>1501.0-3000.0</td>\n",
       "      <td>Lucknow</td>\n",
       "      <td>0-4</td>\n",
       "      <td>sell</td>\n",
       "      <td>1</td>\n",
       "    </tr>\n",
       "    <tr>\n",
       "      <th>2857</th>\n",
       "      <td>Villa</td>\n",
       "      <td>Under Construction</td>\n",
       "      <td>Medium Budget</td>\n",
       "      <td>&gt;50</td>\n",
       "      <td>ACTIVE</td>\n",
       "      <td>Mumbai</td>\n",
       "      <td>0-3</td>\n",
       "      <td>Mumbai</td>\n",
       "      <td>High Budget</td>\n",
       "      <td>3001.0-4500.0</td>\n",
       "      <td>Mumbai</td>\n",
       "      <td>0-4</td>\n",
       "      <td>sell</td>\n",
       "      <td>2</td>\n",
       "    </tr>\n",
       "    <tr>\n",
       "      <th>2858</th>\n",
       "      <td>Villa</td>\n",
       "      <td>Under Construction</td>\n",
       "      <td>Medium Budget</td>\n",
       "      <td>&gt;50</td>\n",
       "      <td>ACTIVE</td>\n",
       "      <td>Mumbai</td>\n",
       "      <td>0-3</td>\n",
       "      <td>Mumbai</td>\n",
       "      <td>Medium Budget</td>\n",
       "      <td>1501.0-3000.0</td>\n",
       "      <td>Mumbai</td>\n",
       "      <td>0-4</td>\n",
       "      <td>sell</td>\n",
       "      <td>2</td>\n",
       "    </tr>\n",
       "    <tr>\n",
       "      <th>2859</th>\n",
       "      <td>Villa</td>\n",
       "      <td>Under Construction</td>\n",
       "      <td>Medium Budget</td>\n",
       "      <td>&gt;50</td>\n",
       "      <td>ACTIVE</td>\n",
       "      <td>Mumbai</td>\n",
       "      <td>4-6</td>\n",
       "      <td>Mumbai</td>\n",
       "      <td>High Budget</td>\n",
       "      <td>3001.0-4500.0</td>\n",
       "      <td>Mumbai</td>\n",
       "      <td>0-4</td>\n",
       "      <td>sell</td>\n",
       "      <td>1</td>\n",
       "    </tr>\n",
       "  </tbody>\n",
       "</table>\n",
       "<p>2860 rows × 14 columns</p>\n",
       "</div>"
      ],
      "text/plain": [
       "     Property_type     Property_status Price_per_unit_area Posted_On  \\\n",
       "0        Apartment       Ready to move         High Budget      0-10   \n",
       "1        Apartment       Ready to move         High Budget      0-10   \n",
       "2        Apartment       Ready to move         High Budget      0-10   \n",
       "3        Apartment       Ready to move         High Budget      0-10   \n",
       "4        Apartment       Ready to move         High Budget      0-10   \n",
       "...            ...                 ...                 ...       ...   \n",
       "2855         Villa  Under Construction       Medium Budget       >50   \n",
       "2856         Villa  Under Construction       Medium Budget       >50   \n",
       "2857         Villa  Under Construction       Medium Budget       >50   \n",
       "2858         Villa  Under Construction       Medium Budget       >50   \n",
       "2859         Villa  Under Construction       Medium Budget       >50   \n",
       "\n",
       "     Property_building_status  City_name No_of_BHK Locality_Name  \\\n",
       "0                      ACTIVE  Bangalore       4-6     Bangalore   \n",
       "1                      ACTIVE  Bangalore       4-6     Bangalore   \n",
       "2                      ACTIVE      Delhi       0-3         Delhi   \n",
       "3                      ACTIVE      Delhi       4-6         Delhi   \n",
       "4                      ACTIVE     Mumbai       0-3        Mumbai   \n",
       "...                       ...        ...       ...           ...   \n",
       "2855                   ACTIVE  Hyderabad       4-6     Hyderabad   \n",
       "2856                   ACTIVE    Lucknow       4-6       Lucknow   \n",
       "2857                   ACTIVE     Mumbai       0-3        Mumbai   \n",
       "2858                   ACTIVE     Mumbai       0-3        Mumbai   \n",
       "2859                   ACTIVE     Mumbai       4-6        Mumbai   \n",
       "\n",
       "              Price           Size Sub_urban_name listing_domain_score  \\\n",
       "0       High Budget  3001.0-4500.0      Bangalore                  0-4   \n",
       "1       High Budget          >7500      Bangalore                  0-4   \n",
       "2       High Budget  1501.0-3000.0          Delhi                  0-4   \n",
       "3       High Budget  3001.0-4500.0          Delhi                  0-4   \n",
       "4       High Budget       0-1500.0         Mumbai                  0-4   \n",
       "...             ...            ...            ...                  ...   \n",
       "2855    High Budget  6001.0-7500.0      Hyderabad                  0-4   \n",
       "2856  Medium Budget  1501.0-3000.0        Lucknow                  0-4   \n",
       "2857    High Budget  3001.0-4500.0         Mumbai                  0-4   \n",
       "2858  Medium Budget  1501.0-3000.0         Mumbai                  0-4   \n",
       "2859    High Budget  3001.0-4500.0         Mumbai                  0-4   \n",
       "\n",
       "     Listing_Category  count  \n",
       "0                sell      1  \n",
       "1                sell      1  \n",
       "2                sell      1  \n",
       "3                sell      1  \n",
       "4                sell    141  \n",
       "...               ...    ...  \n",
       "2855             sell      1  \n",
       "2856             sell      1  \n",
       "2857             sell      2  \n",
       "2858             sell      2  \n",
       "2859             sell      1  \n",
       "\n",
       "[2860 rows x 14 columns]"
      ]
     },
     "execution_count": 75,
     "metadata": {},
     "output_type": "execute_result"
    }
   ],
   "source": [
    "df"
   ]
  }
 ],
 "metadata": {
  "kernelspec": {
   "display_name": "Python 3",
   "language": "python",
   "name": "python3"
  },
  "language_info": {
   "codemirror_mode": {
    "name": "ipython",
    "version": 3
   },
   "file_extension": ".py",
   "mimetype": "text/x-python",
   "name": "python",
   "nbconvert_exporter": "python",
   "pygments_lexer": "ipython3",
   "version": "3.9.6"
  },
  "orig_nbformat": 4
 },
 "nbformat": 4,
 "nbformat_minor": 2
}
